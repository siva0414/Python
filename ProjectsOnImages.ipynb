{
 "cells": [
  {
   "cell_type": "code",
   "execution_count": 2,
   "metadata": {},
   "outputs": [],
   "source": [
    "from PIL import Image\n",
    "Image.open(\"photo.jpg\").show() # In that open the image and show\n"
   ]
  },
  {
   "cell_type": "code",
   "execution_count": 9,
   "metadata": {},
   "outputs": [
    {
     "name": "stdout",
     "output_type": "stream",
     "text": [
      "Enter Rotation% : 90\n",
      "Enter the file name : 90.jpg\n",
      "Image Rotated and saved\n"
     ]
    }
   ],
   "source": [
    "d = int(input(\"Enter Rotation% : \"))\n",
    "f = input(\"Enter the file name : \")\n",
    "Image.open(\"photo.jpg\").rotate(d).save(f) # Image is rotated given % and saved\n",
    "print(\"Image Rotated and saved\")\n",
    "Image.open(f).show()"
   ]
  },
  {
   "cell_type": "code",
   "execution_count": 12,
   "metadata": {},
   "outputs": [],
   "source": [
    "Image.open(\"90.jpg\").convert('L').save(\"bw.png\")  # Image is converted to black and white Image\n",
    "Image.open(\"bw.png\").show()"
   ]
  },
  {
   "cell_type": "code",
   "execution_count": 16,
   "metadata": {},
   "outputs": [],
   "source": [
    "import os \n",
    "os.startfile(\"E:\\\\movies\\\\telugu\\\\2020\\\\V.mp4\") # To run the Movie Directly using this concept"
   ]
  }
 ],
 "metadata": {
  "kernelspec": {
   "display_name": "Python 3",
   "language": "python",
   "name": "python3"
  },
  "language_info": {
   "codemirror_mode": {
    "name": "ipython",
    "version": 3
   },
   "file_extension": ".py",
   "mimetype": "text/x-python",
   "name": "python",
   "nbconvert_exporter": "python",
   "pygments_lexer": "ipython3",
   "version": "3.8.3"
  }
 },
 "nbformat": 4,
 "nbformat_minor": 4
}

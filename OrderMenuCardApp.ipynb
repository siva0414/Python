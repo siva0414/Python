{
 "cells": [
  {
   "cell_type": "code",
   "execution_count": 3,
   "metadata": {},
   "outputs": [
    {
     "name": "stdout",
     "output_type": "stream",
     "text": [
      "Welcome to SivaHotel\n",
      "Items Available \n",
      "\n",
      "Idly : 20 /-\n",
      "Dosa : 30 /-\n",
      "Bujji : 20 /-\n",
      "Vada : 20 /-\n",
      "Chapathi : 40 /-\n",
      "Gari : 25 /-\n",
      "Poori : 35 /-\n",
      "Sambaridly : 35 /-\n",
      "OnionDosa : 50 /-\n",
      "Please Give me Order\n",
      "Idly Idly Dosa Bujji OnionDosa MasalaDosa Upma\n",
      "Sorry MasalaDosa is not Available\n",
      "Sorry Upma is not Available\n",
      "Your Total Bill = Rs 140 /-\n"
     ]
    }
   ],
   "source": [
    "#Order Menu\n",
    "menu = {\"Idly\":20,\"Dosa\":30,\"Bujji\":20,\"Vada\":20,\"Chapathi\":40,\"Gari\":25,\"Poori\":35,\"Sambaridly\":35,\"OnionDosa\":50}\n",
    "print(\"Welcome to SivaHotel\")\n",
    "print(\"Items Available \\n\")\n",
    "for item,price in menu.items():\n",
    "    print(item,\":\",price,\"/-\")\n",
    "print(\"Please Give me Order\")\n",
    "bill=0\n",
    "items=input(\"\").split()\n",
    "for item in items:\n",
    "    if item in menu.keys():\n",
    "        bill+=menu[item]\n",
    "    elif item not in menu.keys():\n",
    "        print(\"Sorry\",item,\"is not Available\")\n",
    "print('Your Total Bill =','Rs',bill,\"/-\")\n",
    "\n"
   ]
  }
 ],
 "metadata": {
  "kernelspec": {
   "display_name": "Python 3",
   "language": "python",
   "name": "python3"
  },
  "language_info": {
   "codemirror_mode": {
    "name": "ipython",
    "version": 3
   },
   "file_extension": ".py",
   "mimetype": "text/x-python",
   "name": "python",
   "nbconvert_exporter": "python",
   "pygments_lexer": "ipython3",
   "version": "3.8.3"
  }
 },
 "nbformat": 4,
 "nbformat_minor": 4
}

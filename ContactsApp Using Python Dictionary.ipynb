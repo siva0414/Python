{
 "cells": [
  {
   "cell_type": "code",
   "execution_count": 1,
   "metadata": {},
   "outputs": [
    {
     "name": "stdout",
     "output_type": "stream",
     "text": [
      "Contact siva is Added\n"
     ]
    }
   ],
   "source": [
    "#contact application using python\n",
    "contacts = {}\n",
    "\n",
    "def add_contact(name,num):\n",
    "    if name in contacts:\n",
    "        print(\"Contact is Already Exists\")\n",
    "    else:\n",
    "        contacts[name]=num\n",
    "        print(\"Contact\",name,\"is Added\")\n",
    "        \n",
    "def delete_contact(name):\n",
    "    if name in contacts:\n",
    "        contacts.pop(name)\n",
    "        print(\"Contact\",name,\"is Deleted\")\n",
    "    else:\n",
    "        print(\"Contact\",name,\"Doesn't Exist\")\n",
    "        \n",
    "def search_contact(name):\n",
    "    if name in contacts:\n",
    "        print(name,\":\",contacts[name])\n",
    "    else:\n",
    "        print(\"Contact\",name,\"Doesn't Exist\")\n",
    "\n",
    "def edit_contact(name):\n",
    "    if name in contacts:\n",
    "        print(contacts[name])\n",
    "        num = int(input(\"Enter New Number:\"))\n",
    "        contacts[name]=num\n",
    "        print(\"Contact\",name,\"is Updated\")\n",
    "    else:\n",
    "        print(\"Contact\",name,\"Doesn't Exist\")\n",
    "        \n",
    "add_contact(\"siva\",9010219848)"
   ]
  },
  {
   "cell_type": "code",
   "execution_count": 10,
   "metadata": {},
   "outputs": [
    {
     "data": {
      "text/plain": [
       "{'siva': 9010219848}"
      ]
     },
     "execution_count": 10,
     "metadata": {},
     "output_type": "execute_result"
    }
   ],
   "source": [
    "contacts\n"
   ]
  },
  {
   "cell_type": "code",
   "execution_count": 6,
   "metadata": {},
   "outputs": [
    {
     "name": "stdout",
     "output_type": "stream",
     "text": [
      "siva : 9010219848\n"
     ]
    }
   ],
   "source": [
    "search_contact(\"siva\")"
   ]
  },
  {
   "cell_type": "code",
   "execution_count": 7,
   "metadata": {},
   "outputs": [
    {
     "name": "stdout",
     "output_type": "stream",
     "text": [
      "9515901074\n",
      "Enter New Number:9515901075\n",
      "Contact siri is Updated\n"
     ]
    }
   ],
   "source": [
    "edit_contact(\"siri\")"
   ]
  },
  {
   "cell_type": "code",
   "execution_count": 8,
   "metadata": {},
   "outputs": [
    {
     "name": "stdout",
     "output_type": "stream",
     "text": [
      "Contact siri is Deleted\n"
     ]
    }
   ],
   "source": [
    "delete_contact(\"siri\")"
   ]
  },
  {
   "cell_type": "code",
   "execution_count": 9,
   "metadata": {},
   "outputs": [
    {
     "data": {
      "text/plain": [
       "{'siva': 9010219848}"
      ]
     },
     "execution_count": 9,
     "metadata": {},
     "output_type": "execute_result"
    }
   ],
   "source": [
    "contacts"
   ]
  }
 ],
 "metadata": {
  "kernelspec": {
   "display_name": "Python 3",
   "language": "python",
   "name": "python3"
  },
  "language_info": {
   "codemirror_mode": {
    "name": "ipython",
    "version": 3
   },
   "file_extension": ".py",
   "mimetype": "text/x-python",
   "name": "python",
   "nbconvert_exporter": "python",
   "pygments_lexer": "ipython3",
   "version": "3.8.3"
  }
 },
 "nbformat": 4,
 "nbformat_minor": 4
}
